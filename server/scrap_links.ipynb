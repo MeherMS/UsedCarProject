{
 "cells": [
  {
   "cell_type": "code",
   "execution_count": 8,
   "metadata": {},
   "outputs": [
    {
     "name": "stdout",
     "output_type": "stream",
     "text": [
      "something wrong in click  22\n"
     ]
    },
    {
     "data": {
      "text/plain": [
       "1044"
      ]
     },
     "execution_count": 8,
     "metadata": {},
     "output_type": "execute_result"
    }
   ],
   "source": [
    "#importing libraries\n",
    "import selenium\n",
    "from selenium import webdriver as wb\n",
    "from selenium.webdriver.support.ui import Select\n",
    "import pandas as pd\n",
    "import time\n",
    "\n",
    "# time of scraping\n",
    "timeout = time.time() + 60*5 \n",
    "\n",
    "#Opening Chrome browser\n",
    "wbD=wb.Chrome('chromedriver.exe')\n",
    "\n",
    "#Opening webpage\n",
    "wbD.get('https://www.tayara.tn/sc/v%C3%A9hicules/voitures')\n",
    "\n",
    "#number of page\n",
    "max_number=29\n",
    "for i in range(max_number):\n",
    "    time.sleep(4)\n",
    "    try:\n",
    "        wbD.find_element_by_id('load-more-btn').click()\n",
    "    except:\n",
    "        print(\"something wrong in click \",i)\n",
    "        \n",
    "#Running loop to store the product links in a list\n",
    "listOflinks =[]\n",
    "condition =True \n",
    "while condition:\n",
    "    time.sleep(3)\n",
    "    productInfoList=wbD.find_elements_by_class_name('card')\n",
    "    for el in productInfoList:\n",
    "        try:\n",
    "            pp2=el.find_element_by_tag_name('a')\n",
    "            listOflinks.append(pp2.get_property('href'))\n",
    "        except:\n",
    "            print(\"eror in a href ! please check it !\")\n",
    "        i=i+1\n",
    "    if time.time() > timeout or i>=len(productInfoList):\n",
    "        condition =False \n",
    "        break\n",
    "        \n",
    "len(listOflinks)"
   ]
  },
  {
   "cell_type": "code",
   "execution_count": 217,
   "metadata": {},
   "outputs": [],
   "source": [
    "       "
   ]
  },
  {
   "cell_type": "code",
   "execution_count": null,
   "metadata": {},
   "outputs": [],
   "source": []
  }
 ],
 "metadata": {
  "kernelspec": {
   "display_name": "Python 3",
   "language": "python",
   "name": "python3"
  },
  "language_info": {
   "codemirror_mode": {
    "name": "ipython",
    "version": 3
   },
   "file_extension": ".py",
   "mimetype": "text/x-python",
   "name": "python",
   "nbconvert_exporter": "python",
   "pygments_lexer": "ipython3",
   "version": "3.7.6"
  }
 },
 "nbformat": 4,
 "nbformat_minor": 4
}
